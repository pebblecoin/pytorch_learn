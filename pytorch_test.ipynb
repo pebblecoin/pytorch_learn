{
 "cells": [
  {
   "cell_type": "code",
   "execution_count": 1,
   "metadata": {},
   "outputs": [],
   "source": [
    "import torch"
   ]
  },
  {
   "cell_type": "code",
   "execution_count": 2,
   "metadata": {},
   "outputs": [],
   "source": [
    "x = torch.rand(5, 3)\n",
    "y = torch.rand(5, 3)"
   ]
  },
  {
   "cell_type": "markdown",
   "metadata": {},
   "source": [
    "## Here we wan to test the cuda in pytorch"
   ]
  },
  {
   "cell_type": "code",
   "execution_count": 11,
   "metadata": {},
   "outputs": [
    {
     "name": "stdout",
     "output_type": "stream",
     "text": [
      "CPU times: user 0 ns, sys: 0 ns, total: 0 ns\n",
      "Wall time: 4.14 ms\n"
     ]
    }
   ],
   "source": [
    "if torch.cuda.is_available():\n",
    "    x = x.cuda()\n",
    "    y = y.cuda()\n",
    "    x*y"
   ]
  },
  {
   "cell_type": "code",
   "execution_count": 12,
   "metadata": {},
   "outputs": [],
   "source": [
    "a = torch.randn(1000,1000)\n",
    "b = torch.randn(1000,1000)"
   ]
  },
  {
   "cell_type": "code",
   "execution_count": 13,
   "metadata": {},
   "outputs": [
    {
     "name": "stdout",
     "output_type": "stream",
     "text": [
      "CPU times: user 32 ms, sys: 0 ns, total: 32 ms\n",
      "Wall time: 11.1 ms\n"
     ]
    },
    {
     "data": {
      "text/plain": [
       "\n",
       " 4.4794e-01  5.5752e-01  5.0302e-01  ...  -5.6050e-02 -1.2189e+00 -4.9605e-01\n",
       "-2.7263e-02 -1.2399e-01  3.3636e+00  ...   1.8085e-01  9.4268e-02  3.9233e-01\n",
       " 5.4440e-01 -1.1639e-04  6.6123e-01  ...   2.1140e+00  1.6425e+00  2.9458e-02\n",
       "                ...                   ⋱                   ...                \n",
       "-1.7431e-02  2.9089e+00  3.5551e-01  ...  -2.6552e-01  1.5489e-01  4.4147e-02\n",
       "-2.3214e+00 -1.0690e-01 -4.4592e-02  ...   9.6109e-01  3.5817e-02 -8.6604e-01\n",
       " 7.5136e-02 -9.6767e-01  6.6336e-01  ...   1.7298e-02 -9.6781e-01 -5.1479e-03\n",
       "[torch.FloatTensor of size 1000x1000]"
      ]
     },
     "execution_count": 13,
     "metadata": {},
     "output_type": "execute_result"
    }
   ],
   "source": [
    "%%time \n",
    "a*b"
   ]
  },
  {
   "cell_type": "code",
   "execution_count": null,
   "metadata": {},
   "outputs": [],
   "source": [
    "%%time \n",
    "a.cuda(*b"
   ]
  }
 ],
 "metadata": {
  "kernelspec": {
   "display_name": "Python 3",
   "language": "python",
   "name": "python3"
  },
  "language_info": {
   "codemirror_mode": {
    "name": "ipython",
    "version": 3
   },
   "file_extension": ".py",
   "mimetype": "text/x-python",
   "name": "python",
   "nbconvert_exporter": "python",
   "pygments_lexer": "ipython3",
   "version": "3.6.4"
  }
 },
 "nbformat": 4,
 "nbformat_minor": 2
}
