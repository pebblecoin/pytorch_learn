{
 "cells": [
  {
   "cell_type": "code",
   "execution_count": 2,
   "metadata": {
    "collapsed": true
   },
   "outputs": [],
   "source": [
    "# Here we use the LSTM to do the work"
   ]
  },
  {
   "cell_type": "code",
   "execution_count": 3,
   "metadata": {
    "collapsed": true
   },
   "outputs": [],
   "source": [
    "import os\n",
    "import torch\n",
    "import torch.nn as nn\n",
    "from torch.autograd import Variable\n",
    "import torch.utils.data as Data\n",
    "import torchvision\n",
    "import matplotlib.pyplot as plt\n",
    "%matplotlib inline"
   ]
  },
  {
   "cell_type": "code",
   "execution_count": 4,
   "metadata": {},
   "outputs": [
    {
     "data": {
      "text/plain": [
       "<torch._C.Generator at 0x10f4d2cd0>"
      ]
     },
     "execution_count": 4,
     "metadata": {},
     "output_type": "execute_result"
    }
   ],
   "source": [
    "torch.manual_seed(1)"
   ]
  },
  {
   "cell_type": "code",
   "execution_count": 70,
   "metadata": {
    "collapsed": true
   },
   "outputs": [],
   "source": [
    "EPOCH=1\n",
    "BATCH_SIZE = 50\n",
    "LR = 0.01\n",
    "DOWNLOAD_MNIST = False"
   ]
  },
  {
   "cell_type": "code",
   "execution_count": 71,
   "metadata": {
    "collapsed": true
   },
   "outputs": [],
   "source": [
    "if not(os.path.exists('./mnist')) or not os.listdir('./mnist/'):\n",
    "    DOWNLOAD_MNIST = True"
   ]
  },
  {
   "cell_type": "code",
   "execution_count": 72,
   "metadata": {
    "collapsed": true
   },
   "outputs": [],
   "source": [
    "train_data = torchvision.datasets.MNIST(\n",
    "    root='./mnist/',\n",
    "    train=True,\n",
    "    transform = torchvision.transforms.ToTensor(), # converts a PIL.image or numpy.ndarray to torch.FloatTensfor of shape\n",
    "                                                   # (C x H x W) and normalized in the range [0,1]\n",
    "    download=DOWNLOAD_MNIST)"
   ]
  },
  {
   "cell_type": "code",
   "execution_count": 73,
   "metadata": {},
   "outputs": [],
   "source": [
    "train_loader = torch.utils.data.DataLoader(dataset=train_data,\n",
    "                                          batch_size=BATCH_SIZE, \n",
    "                                          shuffle=False)"
   ]
  },
  {
   "cell_type": "code",
   "execution_count": 74,
   "metadata": {},
   "outputs": [
    {
     "name": "stdout",
     "output_type": "stream",
     "text": [
      "torch.Size([60000, 28, 28])\n",
      "torch.Size([60000])\n"
     ]
    },
    {
     "data": {
      "text/plain": [
       "<matplotlib.text.Text at 0x11991a410>"
      ]
     },
     "execution_count": 74,
     "metadata": {},
     "output_type": "execute_result"
    },
    {
     "data": {
      "image/png": "[encoded data removed]",
      "text/plain": [
       "<matplotlib.figure.Figure at 0x119649650>"
      ]
     },
     "metadata": {},
     "output_type": "display_data"
    }
   ],
   "source": [
    "print(train_data.train_data.size())\n",
    "print(train_data.train_labels.size())\n",
    "plt.imshow(train_data.train_data[0],cmap='gray')\n",
    "plt.title('%i' % train_data.train_labels[0])"
   ]
  },
  {
   "cell_type": "markdown",
   "metadata": {},
   "source": [
    "# Create RNN now"
   ]
  },
  {
   "cell_type": "code",
   "execution_count": 75,
   "metadata": {
    "collapsed": true
   },
   "outputs": [],
   "source": [
    "class LSTM_T(torch.nn.Module):\n",
    "    def __init__(self):\n",
    "        super(LSTM_T,self).__init__()\n",
    "        self.rnn = nn.LSTM(\n",
    "            input_size =28,\n",
    "            hidden_size = 64,\n",
    "            num_layers= 1,\n",
    "            batch_first=True)\n",
    "        \n",
    "        self.out = nn.Linear(64,10)\n",
    "        #self.hidden = self.init_hidden()\n",
    "        \n",
    "#    def init_hidden(self):\n",
    "#        h0 = Variable(torch.zeros(1, 28, 64)) \n",
    "#        c0 = Variable(torch.zeros(1, 28, 64))\n",
    "#        return (h0,c0)\n",
    "    \n",
    "    def forward(self,x):\n",
    "        \n",
    "        lstm_out, _ = self.rnn(x,None)\n",
    "        output = self.out(lstm_out[:,-1,:])\n",
    "        return output"
   ]
  },
  {
   "cell_type": "code",
   "execution_count": 76,
   "metadata": {
    "collapsed": true
   },
   "outputs": [],
   "source": [
    "lstm=LSTM_T()"
   ]
  },
  {
   "cell_type": "code",
   "execution_count": 77,
   "metadata": {},
   "outputs": [],
   "source": [
    "optimizer = torch.optim.Adam(lstm.parameters(), lr=LR)   \n",
    "loss_func = nn.CrossEntropyLoss()   "
   ]
  },
  {
   "cell_type": "code",
   "execution_count": 78,
   "metadata": {
    "scrolled": false
   },
   "outputs": [
    {
     "name": "stdout",
     "output_type": "stream",
     "text": [
      "epoch [1/1], Iter[1/1200] Loss:2.3035\n",
      "epoch [1/1], Iter[101/1200] Loss:0.9187\n",
      "epoch [1/1], Iter[201/1200] Loss:0.5774\n",
      "epoch [1/1], Iter[301/1200] Loss:0.2875\n",
      "epoch [1/1], Iter[401/1200] Loss:0.5427\n",
      "epoch [1/1], Iter[501/1200] Loss:0.3348\n",
      "epoch [1/1], Iter[601/1200] Loss:0.2393\n",
      "epoch [1/1], Iter[701/1200] Loss:0.1154\n",
      "epoch [1/1], Iter[801/1200] Loss:0.2011\n",
      "epoch [1/1], Iter[901/1200] Loss:0.2331\n",
      "epoch [1/1], Iter[1001/1200] Loss:0.0623\n",
      "epoch [1/1], Iter[1101/1200] Loss:0.0350\n"
     ]
    }
   ],
   "source": [
    "for epoch in range(EPOCH):\n",
    "    for i, (images,labels) in enumerate(train_loader):\n",
    "        b_x =Variable(images.view(-1,28,28))\n",
    "        b_y =Variable(labels)\n",
    "        \n",
    "        optimizer.zero_grad()\n",
    "        output=lstm(b_x)\n",
    "        loss=loss_func(output,b_y)\n",
    "        loss.backward()\n",
    "        optimizer.step()\n",
    "        if i%100==0:\n",
    "            print ('epoch [%d/%d], Iter[%d/%d] Loss:%.4f'\n",
    "                  %(epoch+1,EPOCH,i+1,len(train_data)//BATCH_SIZE,loss.data[0]))"
   ]
  },
  {
   "cell_type": "code",
   "execution_count": 79,
   "metadata": {},
   "outputs": [],
   "source": [
    "test_data = torchvision.datasets.MNIST(root='./mnist/', train=False,transform = torchvision.transforms.ToTensor())\n"
   ]
  },
  {
   "cell_type": "code",
   "execution_count": 80,
   "metadata": {},
   "outputs": [],
   "source": [
    "test_loader = torch.utils.data.DataLoader(dataset=test_data,\n",
    "                                          batch_size=BATCH_SIZE, \n",
    "                                          shuffle=False)"
   ]
  },
  {
   "cell_type": "code",
   "execution_count": 81,
   "metadata": {},
   "outputs": [
    {
     "name": "stdout",
     "output_type": "stream",
     "text": [
      "Accuracy 94 %\n"
     ]
    }
   ],
   "source": [
    "correct = 0\n",
    "total = 0\n",
    "\n",
    "for images,labels in test_loader:\n",
    "    images = Variable(images.view(-1,28,28))\n",
    "    outputs = lstm(images)\n",
    "    _,predicited= torch.max(outputs.data,1)\n",
    "    total+=labels.size(0)\n",
    "    correct+=sum(predicited==labels)\n",
    "\n",
    "print('Accuracy {} %'.format(100*correct/total))"
   ]
  }
 ],
 "metadata": {
  "kernelspec": {
   "display_name": "Python 2",
   "language": "python",
   "name": "python2"
  },
  "language_info": {
   "codemirror_mode": {
    "name": "ipython",
    "version": 2
   },
   "file_extension": ".py",
   "mimetype": "text/x-python",
   "name": "python",
   "nbconvert_exporter": "python",
   "pygments_lexer": "ipython2",
   "version": "2.7.13"
  }
 },
 "nbformat": 4,
 "nbformat_minor": 2
}
