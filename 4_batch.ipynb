{
 "cells": [
  {
   "cell_type": "code",
   "execution_count": 3,
   "metadata": {},
   "outputs": [
    {
     "data": {
      "text/plain": [
       "<torch._C.Generator at 0x1052e6d50>"
      ]
     },
     "execution_count": 3,
     "metadata": {},
     "output_type": "execute_result"
    }
   ],
   "source": [
    "import torch\n",
    "import torch.utils.data as Data\n",
    "torch.manual_seed(1)"
   ]
  },
  {
   "cell_type": "code",
   "execution_count": 13,
   "metadata": {
    "collapsed": true
   },
   "outputs": [],
   "source": [
    "BATCH_SIZE = 8"
   ]
  },
  {
   "cell_type": "code",
   "execution_count": 14,
   "metadata": {
    "collapsed": true
   },
   "outputs": [],
   "source": [
    "x = torch.linspace(1,10,10)\n",
    "y = torch.linspace(10,1,10)"
   ]
  },
  {
   "cell_type": "code",
   "execution_count": 15,
   "metadata": {
    "collapsed": true
   },
   "outputs": [],
   "source": [
    "torch_dataset=Data.TensorDataset(data_tensor=x,target_tensor=y)"
   ]
  },
  {
   "cell_type": "code",
   "execution_count": 16,
   "metadata": {
    "collapsed": true
   },
   "outputs": [],
   "source": [
    "loader = Data.DataLoader(\n",
    "    dataset=torch_dataset,\n",
    "    batch_size=BATCH_SIZE,\n",
    "    shuffle=True,\n",
    "    num_workers=2,\n",
    ")"
   ]
  },
  {
   "cell_type": "code",
   "execution_count": 17,
   "metadata": {},
   "outputs": [
    {
     "name": "stdout",
     "output_type": "stream",
     "text": [
      "('Epoch', 0, '| Step:', 0, '| batch x:', array([  3.,  10.,   9.,   4.,   7.,   8.,   2.,   1.]), '| batch y:', array([  8.,   1.,   2.,   7.,   4.,   3.,   9.,  10.]))\n",
      "('Epoch', 0, '| Step:', 1, '| batch x:', array([ 5.,  6.]), '| batch y:', array([ 6.,  5.]))\n",
      "('Epoch', 1, '| Step:', 0, '| batch x:', array([  4.,   8.,   3.,   2.,   1.,  10.,   5.,   6.]), '| batch y:', array([  7.,   3.,   8.,   9.,  10.,   1.,   6.,   5.]))\n",
      "('Epoch', 1, '| Step:', 1, '| batch x:', array([ 7.,  9.]), '| batch y:', array([ 4.,  2.]))\n",
      "('Epoch', 2, '| Step:', 0, '| batch x:', array([  6.,   2.,   4.,  10.,   9.,   3.,   8.,   5.]), '| batch y:', array([ 5.,  9.,  7.,  1.,  2.,  8.,  3.,  6.]))\n",
      "('Epoch', 2, '| Step:', 1, '| batch x:', array([ 7.,  1.]), '| batch y:', array([  4.,  10.]))\n"
     ]
    }
   ],
   "source": [
    "for epoch in range(3):\n",
    "    for step, (batch_x,batch_y) in enumerate(loader):\n",
    "        print('Epoch',epoch,'| Step:', step, '| batch x:',\n",
    "             batch_x.numpy(),'| batch y:', batch_y.numpy())"
   ]
  },
  {
   "cell_type": "code",
   "execution_count": null,
   "metadata": {
    "collapsed": true
   },
   "outputs": [],
   "source": []
  }
 ],
 "metadata": {
  "kernelspec": {
   "display_name": "Python 2",
   "language": "python",
   "name": "python2"
  },
  "language_info": {
   "codemirror_mode": {
    "name": "ipython",
    "version": 2
   },
   "file_extension": ".py",
   "mimetype": "text/x-python",
   "name": "python",
   "nbconvert_exporter": "python",
   "pygments_lexer": "ipython2",
   "version": "2.7.13"
  }
 },
 "nbformat": 4,
 "nbformat_minor": 2
}
